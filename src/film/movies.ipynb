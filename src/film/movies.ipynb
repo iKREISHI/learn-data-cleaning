{
 "cells": [
  {
   "cell_type": "code",
   "id": "initial_id",
   "metadata": {
    "collapsed": true,
    "ExecuteTime": {
     "end_time": "2025-01-07T16:33:44.674268Z",
     "start_time": "2025-01-07T16:33:44.214045Z"
    }
   },
   "source": [
    "import pandas as pd\n",
    "import numpy as np\n",
    "import re"
   ],
   "outputs": [],
   "execution_count": 1
  },
  {
   "metadata": {},
   "cell_type": "markdown",
   "source": "# Обзор и предобработка данных",
   "id": "55814c5ece89ebd3"
  },
  {
   "metadata": {},
   "cell_type": "markdown",
   "source": "",
   "id": "2525fb6373af76d1"
  },
  {
   "metadata": {
    "ExecuteTime": {
     "end_time": "2025-01-07T16:33:44.718685Z",
     "start_time": "2025-01-07T16:33:44.684202Z"
    }
   },
   "cell_type": "code",
   "source": "dataset = pd.read_csv('movies.csv')",
   "id": "1a1d794c6d12bc18",
   "outputs": [],
   "execution_count": 2
  },
  {
   "metadata": {
    "ExecuteTime": {
     "end_time": "2025-01-07T16:33:44.826202Z",
     "start_time": "2025-01-07T16:33:44.813910Z"
    }
   },
   "cell_type": "code",
   "source": "dataset.head(n=2)",
   "id": "6e69e1211dec76d5",
   "outputs": [
    {
     "data": {
      "text/plain": [
       "                                              poster  \\\n",
       "0  https://m.media-amazon.com/images/S/sash/4Fyxw...   \n",
       "1  https://m.media-amazon.com/images/S/sash/4Fyxw...   \n",
       "\n",
       "                      title certificate  runtime                 genre  \\\n",
       "0  The Shawshank Redemption          15  142 min                 Drama   \n",
       "1           The Dark Knight         12A  152 min  Action, Crime, Drama   \n",
       "\n",
       "   rating                                              about  \\\n",
       "0     9.3  Two imprisoned men bond over a number of years...   \n",
       "1     9.0  When the menace known as the Joker wreaks havo...   \n",
       "\n",
       "            director                                              stars  \\\n",
       "0     Frank Darabont  ('Tim Robbins',), ('Morgan Freeman',), ('Bob G...   \n",
       "1  Christopher Nolan  ('Christian Bale',), ('Heath Ledger',), ('Aaro...   \n",
       "\n",
       "       votes gross_earn  \n",
       "0  26,26,905    $28.34M  \n",
       "1  25,98,173   $534.86M  "
      ],
      "text/html": [
       "<div>\n",
       "<style scoped>\n",
       "    .dataframe tbody tr th:only-of-type {\n",
       "        vertical-align: middle;\n",
       "    }\n",
       "\n",
       "    .dataframe tbody tr th {\n",
       "        vertical-align: top;\n",
       "    }\n",
       "\n",
       "    .dataframe thead th {\n",
       "        text-align: right;\n",
       "    }\n",
       "</style>\n",
       "<table border=\"1\" class=\"dataframe\">\n",
       "  <thead>\n",
       "    <tr style=\"text-align: right;\">\n",
       "      <th></th>\n",
       "      <th>poster</th>\n",
       "      <th>title</th>\n",
       "      <th>certificate</th>\n",
       "      <th>runtime</th>\n",
       "      <th>genre</th>\n",
       "      <th>rating</th>\n",
       "      <th>about</th>\n",
       "      <th>director</th>\n",
       "      <th>stars</th>\n",
       "      <th>votes</th>\n",
       "      <th>gross_earn</th>\n",
       "    </tr>\n",
       "  </thead>\n",
       "  <tbody>\n",
       "    <tr>\n",
       "      <th>0</th>\n",
       "      <td>https://m.media-amazon.com/images/S/sash/4Fyxw...</td>\n",
       "      <td>The Shawshank Redemption</td>\n",
       "      <td>15</td>\n",
       "      <td>142 min</td>\n",
       "      <td>Drama</td>\n",
       "      <td>9.3</td>\n",
       "      <td>Two imprisoned men bond over a number of years...</td>\n",
       "      <td>Frank Darabont</td>\n",
       "      <td>('Tim Robbins',), ('Morgan Freeman',), ('Bob G...</td>\n",
       "      <td>26,26,905</td>\n",
       "      <td>$28.34M</td>\n",
       "    </tr>\n",
       "    <tr>\n",
       "      <th>1</th>\n",
       "      <td>https://m.media-amazon.com/images/S/sash/4Fyxw...</td>\n",
       "      <td>The Dark Knight</td>\n",
       "      <td>12A</td>\n",
       "      <td>152 min</td>\n",
       "      <td>Action, Crime, Drama</td>\n",
       "      <td>9.0</td>\n",
       "      <td>When the menace known as the Joker wreaks havo...</td>\n",
       "      <td>Christopher Nolan</td>\n",
       "      <td>('Christian Bale',), ('Heath Ledger',), ('Aaro...</td>\n",
       "      <td>25,98,173</td>\n",
       "      <td>$534.86M</td>\n",
       "    </tr>\n",
       "  </tbody>\n",
       "</table>\n",
       "</div>"
      ]
     },
     "execution_count": 3,
     "metadata": {},
     "output_type": "execute_result"
    }
   ],
   "execution_count": 3
  },
  {
   "metadata": {
    "ExecuteTime": {
     "end_time": "2025-01-07T16:33:44.923047Z",
     "start_time": "2025-01-07T16:33:44.918817Z"
    }
   },
   "cell_type": "code",
   "source": "dataset.shape",
   "id": "fee0e1303f0ab1a8",
   "outputs": [
    {
     "data": {
      "text/plain": [
       "(5000, 11)"
      ]
     },
     "execution_count": 4,
     "metadata": {},
     "output_type": "execute_result"
    }
   ],
   "execution_count": 4
  },
  {
   "metadata": {
    "ExecuteTime": {
     "end_time": "2025-01-07T16:33:44.995922Z",
     "start_time": "2025-01-07T16:33:44.983912Z"
    }
   },
   "cell_type": "code",
   "source": "dataset.info()",
   "id": "d22042a1531313e0",
   "outputs": [
    {
     "name": "stdout",
     "output_type": "stream",
     "text": [
      "<class 'pandas.core.frame.DataFrame'>\n",
      "RangeIndex: 5000 entries, 0 to 4999\n",
      "Data columns (total 11 columns):\n",
      " #   Column       Non-Null Count  Dtype  \n",
      "---  ------       --------------  -----  \n",
      " 0   poster       5000 non-null   object \n",
      " 1   title        5000 non-null   object \n",
      " 2   certificate  5000 non-null   object \n",
      " 3   runtime      5000 non-null   object \n",
      " 4   genre        4970 non-null   object \n",
      " 5   rating       5000 non-null   float64\n",
      " 6   about        4986 non-null   object \n",
      " 7   director     5000 non-null   object \n",
      " 8   stars        5000 non-null   object \n",
      " 9   votes        5000 non-null   object \n",
      " 10  gross_earn   4585 non-null   object \n",
      "dtypes: float64(1), object(10)\n",
      "memory usage: 429.8+ KB\n"
     ]
    }
   ],
   "execution_count": 5
  },
  {
   "metadata": {
    "ExecuteTime": {
     "end_time": "2025-01-07T16:33:45.106080Z",
     "start_time": "2025-01-07T16:33:45.100392Z"
    }
   },
   "cell_type": "code",
   "source": "dataset['title'].nunique(), \"уникальных фильмов из\", len(dataset)",
   "id": "be54d5d62d32477b",
   "outputs": [
    {
     "data": {
      "text/plain": [
       "(4891, 'уникальных фильмов из', 5000)"
      ]
     },
     "execution_count": 6,
     "metadata": {},
     "output_type": "execute_result"
    }
   ],
   "execution_count": 6
  },
  {
   "metadata": {
    "ExecuteTime": {
     "end_time": "2025-01-07T16:33:45.271655Z",
     "start_time": "2025-01-07T16:33:45.241595Z"
    }
   },
   "cell_type": "code",
   "source": "dataset.describe(include='all')",
   "id": "eaea05e44fbe1881",
   "outputs": [
    {
     "data": {
      "text/plain": [
       "                                                   poster     title  \\\n",
       "count                                                5000      5000   \n",
       "unique                                                  1      4891   \n",
       "top     https://m.media-amazon.com/images/S/sash/4Fyxw...  Godzilla   \n",
       "freq                                                 5000         3   \n",
       "mean                                                  NaN       NaN   \n",
       "std                                                   NaN       NaN   \n",
       "min                                                   NaN       NaN   \n",
       "25%                                                   NaN       NaN   \n",
       "50%                                                   NaN       NaN   \n",
       "75%                                                   NaN       NaN   \n",
       "max                                                   NaN       NaN   \n",
       "\n",
       "       certificate runtime                   genre       rating         about  \\\n",
       "count         5000    5000                    4970  5000.000000          4986   \n",
       "unique          39     178                     346          NaN          4976   \n",
       "top             15  97 min  Comedy, Drama, Romance          NaN  The story of   \n",
       "freq          1843     139                     242          NaN             8   \n",
       "mean           NaN     NaN                     NaN     6.692300           NaN   \n",
       "std            NaN     NaN                     NaN     0.973649           NaN   \n",
       "min            NaN     NaN                     NaN     1.500000           NaN   \n",
       "25%            NaN     NaN                     NaN     6.100000           NaN   \n",
       "50%            NaN     NaN                     NaN     6.800000           NaN   \n",
       "75%            NaN     NaN                     NaN     7.400000           NaN   \n",
       "max            NaN     NaN                     NaN     9.300000           NaN   \n",
       "\n",
       "           director                                              stars  \\\n",
       "count          5000                                               5000   \n",
       "unique         1969                                               4969   \n",
       "top     Woody Allen  ('William Shatner',), ('Leonard Nimoy',), ('De...   \n",
       "freq             38                                                  6   \n",
       "mean            NaN                                                NaN   \n",
       "std             NaN                                                NaN   \n",
       "min             NaN                                                NaN   \n",
       "25%             NaN                                                NaN   \n",
       "50%             NaN                                                NaN   \n",
       "75%             NaN                                                NaN   \n",
       "max             NaN                                                NaN   \n",
       "\n",
       "         votes gross_earn  \n",
       "count     5000       4585  \n",
       "unique    4918       3372  \n",
       "top     35,423     $0.01M  \n",
       "freq         2         27  \n",
       "mean       NaN        NaN  \n",
       "std        NaN        NaN  \n",
       "min        NaN        NaN  \n",
       "25%        NaN        NaN  \n",
       "50%        NaN        NaN  \n",
       "75%        NaN        NaN  \n",
       "max        NaN        NaN  "
      ],
      "text/html": [
       "<div>\n",
       "<style scoped>\n",
       "    .dataframe tbody tr th:only-of-type {\n",
       "        vertical-align: middle;\n",
       "    }\n",
       "\n",
       "    .dataframe tbody tr th {\n",
       "        vertical-align: top;\n",
       "    }\n",
       "\n",
       "    .dataframe thead th {\n",
       "        text-align: right;\n",
       "    }\n",
       "</style>\n",
       "<table border=\"1\" class=\"dataframe\">\n",
       "  <thead>\n",
       "    <tr style=\"text-align: right;\">\n",
       "      <th></th>\n",
       "      <th>poster</th>\n",
       "      <th>title</th>\n",
       "      <th>certificate</th>\n",
       "      <th>runtime</th>\n",
       "      <th>genre</th>\n",
       "      <th>rating</th>\n",
       "      <th>about</th>\n",
       "      <th>director</th>\n",
       "      <th>stars</th>\n",
       "      <th>votes</th>\n",
       "      <th>gross_earn</th>\n",
       "    </tr>\n",
       "  </thead>\n",
       "  <tbody>\n",
       "    <tr>\n",
       "      <th>count</th>\n",
       "      <td>5000</td>\n",
       "      <td>5000</td>\n",
       "      <td>5000</td>\n",
       "      <td>5000</td>\n",
       "      <td>4970</td>\n",
       "      <td>5000.000000</td>\n",
       "      <td>4986</td>\n",
       "      <td>5000</td>\n",
       "      <td>5000</td>\n",
       "      <td>5000</td>\n",
       "      <td>4585</td>\n",
       "    </tr>\n",
       "    <tr>\n",
       "      <th>unique</th>\n",
       "      <td>1</td>\n",
       "      <td>4891</td>\n",
       "      <td>39</td>\n",
       "      <td>178</td>\n",
       "      <td>346</td>\n",
       "      <td>NaN</td>\n",
       "      <td>4976</td>\n",
       "      <td>1969</td>\n",
       "      <td>4969</td>\n",
       "      <td>4918</td>\n",
       "      <td>3372</td>\n",
       "    </tr>\n",
       "    <tr>\n",
       "      <th>top</th>\n",
       "      <td>https://m.media-amazon.com/images/S/sash/4Fyxw...</td>\n",
       "      <td>Godzilla</td>\n",
       "      <td>15</td>\n",
       "      <td>97 min</td>\n",
       "      <td>Comedy, Drama, Romance</td>\n",
       "      <td>NaN</td>\n",
       "      <td>The story of</td>\n",
       "      <td>Woody Allen</td>\n",
       "      <td>('William Shatner',), ('Leonard Nimoy',), ('De...</td>\n",
       "      <td>35,423</td>\n",
       "      <td>$0.01M</td>\n",
       "    </tr>\n",
       "    <tr>\n",
       "      <th>freq</th>\n",
       "      <td>5000</td>\n",
       "      <td>3</td>\n",
       "      <td>1843</td>\n",
       "      <td>139</td>\n",
       "      <td>242</td>\n",
       "      <td>NaN</td>\n",
       "      <td>8</td>\n",
       "      <td>38</td>\n",
       "      <td>6</td>\n",
       "      <td>2</td>\n",
       "      <td>27</td>\n",
       "    </tr>\n",
       "    <tr>\n",
       "      <th>mean</th>\n",
       "      <td>NaN</td>\n",
       "      <td>NaN</td>\n",
       "      <td>NaN</td>\n",
       "      <td>NaN</td>\n",
       "      <td>NaN</td>\n",
       "      <td>6.692300</td>\n",
       "      <td>NaN</td>\n",
       "      <td>NaN</td>\n",
       "      <td>NaN</td>\n",
       "      <td>NaN</td>\n",
       "      <td>NaN</td>\n",
       "    </tr>\n",
       "    <tr>\n",
       "      <th>std</th>\n",
       "      <td>NaN</td>\n",
       "      <td>NaN</td>\n",
       "      <td>NaN</td>\n",
       "      <td>NaN</td>\n",
       "      <td>NaN</td>\n",
       "      <td>0.973649</td>\n",
       "      <td>NaN</td>\n",
       "      <td>NaN</td>\n",
       "      <td>NaN</td>\n",
       "      <td>NaN</td>\n",
       "      <td>NaN</td>\n",
       "    </tr>\n",
       "    <tr>\n",
       "      <th>min</th>\n",
       "      <td>NaN</td>\n",
       "      <td>NaN</td>\n",
       "      <td>NaN</td>\n",
       "      <td>NaN</td>\n",
       "      <td>NaN</td>\n",
       "      <td>1.500000</td>\n",
       "      <td>NaN</td>\n",
       "      <td>NaN</td>\n",
       "      <td>NaN</td>\n",
       "      <td>NaN</td>\n",
       "      <td>NaN</td>\n",
       "    </tr>\n",
       "    <tr>\n",
       "      <th>25%</th>\n",
       "      <td>NaN</td>\n",
       "      <td>NaN</td>\n",
       "      <td>NaN</td>\n",
       "      <td>NaN</td>\n",
       "      <td>NaN</td>\n",
       "      <td>6.100000</td>\n",
       "      <td>NaN</td>\n",
       "      <td>NaN</td>\n",
       "      <td>NaN</td>\n",
       "      <td>NaN</td>\n",
       "      <td>NaN</td>\n",
       "    </tr>\n",
       "    <tr>\n",
       "      <th>50%</th>\n",
       "      <td>NaN</td>\n",
       "      <td>NaN</td>\n",
       "      <td>NaN</td>\n",
       "      <td>NaN</td>\n",
       "      <td>NaN</td>\n",
       "      <td>6.800000</td>\n",
       "      <td>NaN</td>\n",
       "      <td>NaN</td>\n",
       "      <td>NaN</td>\n",
       "      <td>NaN</td>\n",
       "      <td>NaN</td>\n",
       "    </tr>\n",
       "    <tr>\n",
       "      <th>75%</th>\n",
       "      <td>NaN</td>\n",
       "      <td>NaN</td>\n",
       "      <td>NaN</td>\n",
       "      <td>NaN</td>\n",
       "      <td>NaN</td>\n",
       "      <td>7.400000</td>\n",
       "      <td>NaN</td>\n",
       "      <td>NaN</td>\n",
       "      <td>NaN</td>\n",
       "      <td>NaN</td>\n",
       "      <td>NaN</td>\n",
       "    </tr>\n",
       "    <tr>\n",
       "      <th>max</th>\n",
       "      <td>NaN</td>\n",
       "      <td>NaN</td>\n",
       "      <td>NaN</td>\n",
       "      <td>NaN</td>\n",
       "      <td>NaN</td>\n",
       "      <td>9.300000</td>\n",
       "      <td>NaN</td>\n",
       "      <td>NaN</td>\n",
       "      <td>NaN</td>\n",
       "      <td>NaN</td>\n",
       "      <td>NaN</td>\n",
       "    </tr>\n",
       "  </tbody>\n",
       "</table>\n",
       "</div>"
      ]
     },
     "execution_count": 7,
     "metadata": {},
     "output_type": "execute_result"
    }
   ],
   "execution_count": 7
  },
  {
   "metadata": {
    "ExecuteTime": {
     "end_time": "2025-01-07T16:33:45.420027Z",
     "start_time": "2025-01-07T16:33:45.406996Z"
    }
   },
   "cell_type": "code",
   "source": [
    "duplicates = dataset.duplicated()\n",
    "print(f\"Количество дубликатов: {duplicates.sum()}\")\n"
   ],
   "id": "33a57b5acbec2496",
   "outputs": [
    {
     "name": "stdout",
     "output_type": "stream",
     "text": [
      "Количество дубликатов: 0\n"
     ]
    }
   ],
   "execution_count": 8
  },
  {
   "metadata": {
    "ExecuteTime": {
     "end_time": "2025-01-07T16:33:45.475545Z",
     "start_time": "2025-01-07T16:33:45.467906Z"
    }
   },
   "cell_type": "code",
   "source": [
    "# Проверка пропусков\n",
    "missing_data = dataset.isnull().sum()\n",
    "print(f\"Пропущенные значения:\\n{missing_data}\")"
   ],
   "id": "4ee041b23776ab2e",
   "outputs": [
    {
     "name": "stdout",
     "output_type": "stream",
     "text": [
      "Пропущенные значения:\n",
      "poster           0\n",
      "title            0\n",
      "certificate      0\n",
      "runtime          0\n",
      "genre           30\n",
      "rating           0\n",
      "about           14\n",
      "director         0\n",
      "stars            0\n",
      "votes            0\n",
      "gross_earn     415\n",
      "dtype: int64\n"
     ]
    }
   ],
   "execution_count": 9
  },
  {
   "metadata": {
    "ExecuteTime": {
     "end_time": "2025-01-07T16:33:45.544210Z",
     "start_time": "2025-01-07T16:33:45.535498Z"
    }
   },
   "cell_type": "code",
   "source": "dataset.isna().sum()",
   "id": "9318010d988a3ed6",
   "outputs": [
    {
     "data": {
      "text/plain": [
       "poster           0\n",
       "title            0\n",
       "certificate      0\n",
       "runtime          0\n",
       "genre           30\n",
       "rating           0\n",
       "about           14\n",
       "director         0\n",
       "stars            0\n",
       "votes            0\n",
       "gross_earn     415\n",
       "dtype: int64"
      ]
     },
     "execution_count": 10,
     "metadata": {},
     "output_type": "execute_result"
    }
   ],
   "execution_count": 10
  },
  {
   "metadata": {},
   "cell_type": "markdown",
   "source": [
    "# Вывод\n",
    "1. Размеры датасета:\n",
    "    - Датасет содержит 5000 записей и 11 признаков;\n",
    "    - Всего в датасете представлено 5000 записей, из которых 4891 уникальных;\n",
    "2. Типы данных:\n",
    "    - Основные данные представлены в виде строковых (object) и числовых (float64) типов.\n",
    "    - Некоторые столбцы требуют приведения типов:\n",
    "        - runtime (время) — преобразовать в целочисленный формат;\n",
    "        - votes (голоса) — преобразовать из строки с запятыми в числовой формат;\n",
    "        - gross_earn (доход) — содержит символы $ и запятые, необходимо привести к числовому формату.\n",
    "3. Дубликаты:\n",
    "    - Полных дубликатов нет;\n",
    "    - Выявлено 109 дубликатов, которые составляют 2,18% от общего числа записей.\n",
    "4. Пропущенные значения:\n",
    "    - Пропущенные значения в столбцах:\n",
    "        - genre (жанр) - 30 пропущенных значений (0,6%);\n",
    "        - about - 14 пропущенных значений (0,28%);\n",
    "        - gross_earn - 415 пропущенных значений (8,3%)\n",
    "    - Пропуски в `genre` и `about` можно заполнить строковым значением 'Unknown' или удалить, если их доля мала.\n",
    "    - Для gross_earn необходимо заполнить или удалить строки.\n",
    "5. Возможные проблемы при анализе:\n",
    "    - Неправильные типы данных (например, votes и gross_earn) могут привести к ошибкам в расчетах.\n",
    "    - Пропущенные значения в gross_earn могут исказить результаты анализа доходов фильмов.\n",
    "    - Некоторые строковые признаки, такие как genre, требуют дополнительной обработки для анализа (например, разбиение на подкатегории).\n",
    "    - Малая доля пропусков в about и genre вряд ли критична, но требует внимания."
   ],
   "id": "49dcfc888b403f32"
  },
  {
   "metadata": {},
   "cell_type": "markdown",
   "source": "# Преобразование типов колонок",
   "id": "dc2401eb43a3805b"
  },
  {
   "metadata": {
    "ExecuteTime": {
     "end_time": "2025-01-07T16:33:45.647336Z",
     "start_time": "2025-01-07T16:33:45.643929Z"
    }
   },
   "cell_type": "code",
   "source": "df_copy = dataset.copy()",
   "id": "73627b307dac773d",
   "outputs": [],
   "execution_count": 11
  },
  {
   "metadata": {
    "ExecuteTime": {
     "end_time": "2025-01-07T16:33:45.725890Z",
     "start_time": "2025-01-07T16:33:45.720605Z"
    }
   },
   "cell_type": "code",
   "source": "df_copy.columns",
   "id": "c703d25f1b843bd6",
   "outputs": [
    {
     "data": {
      "text/plain": [
       "Index(['poster', 'title', 'certificate', 'runtime', 'genre', 'rating', 'about',\n",
       "       'director', 'stars', 'votes', 'gross_earn'],\n",
       "      dtype='object')"
      ]
     },
     "execution_count": 12,
     "metadata": {},
     "output_type": "execute_result"
    }
   ],
   "execution_count": 12
  },
  {
   "metadata": {},
   "cell_type": "markdown",
   "source": "## Обработка колонки `runtime`",
   "id": "6af5ad6c684b9968"
  },
  {
   "metadata": {
    "ExecuteTime": {
     "end_time": "2025-01-07T16:33:45.815399Z",
     "start_time": "2025-01-07T16:33:45.808930Z"
    }
   },
   "cell_type": "code",
   "source": "df_copy['runtime']",
   "id": "184e6b4b95df00f6",
   "outputs": [
    {
     "data": {
      "text/plain": [
       "0              142 min\n",
       "1              152 min\n",
       "2              148 min\n",
       "3              139 min\n",
       "4              154 min\n",
       "             ...      \n",
       "4995           102 min\n",
       "4996            94 min\n",
       "4997    Drama, Romance\n",
       "4998            92 min\n",
       "4999           120 min\n",
       "Name: runtime, Length: 5000, dtype: object"
      ]
     },
     "execution_count": 13,
     "metadata": {},
     "output_type": "execute_result"
    }
   ],
   "execution_count": 13
  },
  {
   "metadata": {
    "ExecuteTime": {
     "end_time": "2025-01-07T16:33:45.925931Z",
     "start_time": "2025-01-07T16:33:45.920780Z"
    }
   },
   "cell_type": "code",
   "source": "df_copy['runtime'].unique().sum()",
   "id": "4a3207ab99a0c92f",
   "outputs": [
    {
     "data": {
      "text/plain": [
       "'142 min152 min148 min139 min154 min178 min136 min201 min175 min164 min179 min127 min143 min155 min140 min165 min169 min121 min118 min162 min153 min151 min195 min113 min130 min124 min122 min194 min132 min202 min138 min119 min189 min180 min137 min106 min111 min116 min145 min110 min98 min107 min126 min100 min131 min133 min103 min108 min96 min99 min115 min88 min120 min81 min135 min146 min117 min104 min92 min91 min102 min149 min170 min112 min101 min141 min144 min114 min150 min90 min161 min128 min93 min129 min166 min147 min134 min109 min105 min125 min156 min123 min95 min157 min163 min158 min89 min187 min167 min84 min94 min85 min172 min160 min168 min86 min97 min87 min183 min188 min207 min159 min76 min229 min238 min83 min218 min77 min181 min191 min80 min212 min78 min79 min82 min74 min185 min75 min197 min69 min64 min224 min68 min210 min177 min193 min67 min174 min70 min220 min321 minComedy186 minAction, Crime, Mystery198 min58 minComedy, Drama, RomanceComedy, Romance192 min242 minHorror204 minComedy, Drama171 min63 minHorror, Sci-Fi, ThrillerAction, Biography, Drama182 min176 min196 minDrama205 minAction, Drama, War71 min259 min45 minFantasy, RomanceAction, Crime, ComedyCrime, Drama, MysteryAction, Adventure, DramaDrama, Horror, MysteryCrime, Mystery213 min72 min216 minComedy, Western317 minAdventure, Drama, RomanceFantasy, HorrorAdventure, ComedyComedy, FamilyAdventure, Comedy, Romance366 minAction, ComedyAdventure, Comedy, FantasyAction, Crime, ThrillerAction, Adventure, Sci-FiDrama, Romance'"
      ]
     },
     "execution_count": 14,
     "metadata": {},
     "output_type": "execute_result"
    }
   ],
   "execution_count": 14
  },
  {
   "metadata": {
    "ExecuteTime": {
     "end_time": "2025-01-07T16:33:45.980735Z",
     "start_time": "2025-01-07T16:33:45.976846Z"
    }
   },
   "cell_type": "code",
   "source": "import re",
   "id": "fe009607b40546e6",
   "outputs": [],
   "execution_count": 15
  },
  {
   "metadata": {
    "ExecuteTime": {
     "end_time": "2025-01-07T16:33:46.036419Z",
     "start_time": "2025-01-07T16:33:46.032269Z"
    }
   },
   "cell_type": "code",
   "source": [
    "def clear_runtime(runtime):\n",
    "    match = re.search(r'\\d+', str(runtime))\n",
    "    return int(match.group()) if match else ''"
   ],
   "id": "5f8eced3d0e45e8f",
   "outputs": [],
   "execution_count": 16
  },
  {
   "metadata": {
    "ExecuteTime": {
     "end_time": "2025-01-07T16:33:46.109562Z",
     "start_time": "2025-01-07T16:33:46.098408Z"
    }
   },
   "cell_type": "code",
   "source": "df_copy['runtime_clear'] = df_copy['runtime'].apply(clear_runtime)",
   "id": "3432cc6c2ac7a1fa",
   "outputs": [],
   "execution_count": 17
  },
  {
   "metadata": {
    "ExecuteTime": {
     "end_time": "2025-01-07T16:33:46.179921Z",
     "start_time": "2025-01-07T16:33:46.173242Z"
    }
   },
   "cell_type": "code",
   "source": "df_copy['runtime_clear']",
   "id": "946e5b59c237e4e4",
   "outputs": [
    {
     "data": {
      "text/plain": [
       "0       142\n",
       "1       152\n",
       "2       148\n",
       "3       139\n",
       "4       154\n",
       "       ... \n",
       "4995    102\n",
       "4996     94\n",
       "4997       \n",
       "4998     92\n",
       "4999    120\n",
       "Name: runtime_clear, Length: 5000, dtype: object"
      ]
     },
     "execution_count": 18,
     "metadata": {},
     "output_type": "execute_result"
    }
   ],
   "execution_count": 18
  },
  {
   "metadata": {
    "ExecuteTime": {
     "end_time": "2025-01-07T16:33:46.261194Z",
     "start_time": "2025-01-07T16:33:46.255698Z"
    }
   },
   "cell_type": "code",
   "source": "df_copy['runtime_clear'][4997]",
   "id": "9e6437ef1018143b",
   "outputs": [
    {
     "data": {
      "text/plain": [
       "''"
      ]
     },
     "execution_count": 19,
     "metadata": {},
     "output_type": "execute_result"
    }
   ],
   "execution_count": 19
  },
  {
   "metadata": {
    "ExecuteTime": {
     "end_time": "2025-01-07T16:33:46.323893Z",
     "start_time": "2025-01-07T16:33:46.318454Z"
    }
   },
   "cell_type": "code",
   "source": "type(df_copy['runtime_clear'][4997])",
   "id": "dc75ab6de5102d6a",
   "outputs": [
    {
     "data": {
      "text/plain": [
       "str"
      ]
     },
     "execution_count": 20,
     "metadata": {},
     "output_type": "execute_result"
    }
   ],
   "execution_count": 20
  },
  {
   "metadata": {
    "ExecuteTime": {
     "end_time": "2025-01-07T16:33:46.388690Z",
     "start_time": "2025-01-07T16:33:46.382095Z"
    }
   },
   "cell_type": "code",
   "source": [
    "# Фильтрация датасета, исключающая строки с пустыми значениями в runtime_clear\n",
    "df_copy = df_copy[df_copy['runtime_clear'] != '']"
   ],
   "id": "ea84656e27c57509",
   "outputs": [],
   "execution_count": 21
  },
  {
   "metadata": {
    "ExecuteTime": {
     "end_time": "2025-01-07T16:33:46.459395Z",
     "start_time": "2025-01-07T16:33:46.455259Z"
    }
   },
   "cell_type": "code",
   "source": [
    "# Приведение признака runtime_clear к формату int\n",
    "df_copy['runtime_clear'] = df_copy['runtime_clear'].astype(int)"
   ],
   "id": "49482f4c9aff2a93",
   "outputs": [],
   "execution_count": 22
  },
  {
   "metadata": {
    "ExecuteTime": {
     "end_time": "2025-01-07T16:33:46.517507Z",
     "start_time": "2025-01-07T16:33:46.506434Z"
    }
   },
   "cell_type": "code",
   "source": "df_copy.isna().sum()",
   "id": "fdd901e71968a67a",
   "outputs": [
    {
     "data": {
      "text/plain": [
       "poster             0\n",
       "title              0\n",
       "certificate        0\n",
       "runtime            0\n",
       "genre              0\n",
       "rating             0\n",
       "about             14\n",
       "director           0\n",
       "stars              0\n",
       "votes              0\n",
       "gross_earn       396\n",
       "runtime_clear      0\n",
       "dtype: int64"
      ]
     },
     "execution_count": 23,
     "metadata": {},
     "output_type": "execute_result"
    }
   ],
   "execution_count": 23
  },
  {
   "metadata": {
    "ExecuteTime": {
     "end_time": "2025-01-07T16:33:46.656617Z",
     "start_time": "2025-01-07T16:33:46.649942Z"
    }
   },
   "cell_type": "code",
   "source": "df_copy.shape",
   "id": "7f746a9b7f73dbe6",
   "outputs": [
    {
     "data": {
      "text/plain": [
       "(4970, 12)"
      ]
     },
     "execution_count": 24,
     "metadata": {},
     "output_type": "execute_result"
    }
   ],
   "execution_count": 24
  },
  {
   "metadata": {
    "ExecuteTime": {
     "end_time": "2025-01-07T16:33:46.740065Z",
     "start_time": "2025-01-07T16:33:46.728305Z"
    }
   },
   "cell_type": "code",
   "source": "df_copy.info()",
   "id": "d3e7fffe9a6695ee",
   "outputs": [
    {
     "name": "stdout",
     "output_type": "stream",
     "text": [
      "<class 'pandas.core.frame.DataFrame'>\n",
      "Index: 4970 entries, 0 to 4999\n",
      "Data columns (total 12 columns):\n",
      " #   Column         Non-Null Count  Dtype  \n",
      "---  ------         --------------  -----  \n",
      " 0   poster         4970 non-null   object \n",
      " 1   title          4970 non-null   object \n",
      " 2   certificate    4970 non-null   object \n",
      " 3   runtime        4970 non-null   object \n",
      " 4   genre          4970 non-null   object \n",
      " 5   rating         4970 non-null   float64\n",
      " 6   about          4956 non-null   object \n",
      " 7   director       4970 non-null   object \n",
      " 8   stars          4970 non-null   object \n",
      " 9   votes          4970 non-null   object \n",
      " 10  gross_earn     4574 non-null   object \n",
      " 11  runtime_clear  4970 non-null   int64  \n",
      "dtypes: float64(1), int64(1), object(10)\n",
      "memory usage: 504.8+ KB\n"
     ]
    }
   ],
   "execution_count": 25
  },
  {
   "metadata": {},
   "cell_type": "markdown",
   "source": "## Обработка колонки `gross_earn`",
   "id": "407b14a65581c72"
  },
  {
   "metadata": {
    "ExecuteTime": {
     "end_time": "2025-01-07T16:33:46.813263Z",
     "start_time": "2025-01-07T16:33:46.807103Z"
    }
   },
   "cell_type": "code",
   "source": "df_copy['gross_earn']",
   "id": "99882857a18bc67b",
   "outputs": [
    {
     "data": {
      "text/plain": [
       "0        $28.34M\n",
       "1       $534.86M\n",
       "2       $292.58M\n",
       "3        $37.03M\n",
       "4       $107.93M\n",
       "          ...   \n",
       "4994         NaN\n",
       "4995      $9.40M\n",
       "4996         NaN\n",
       "4998      $6.67M\n",
       "4999      $8.20M\n",
       "Name: gross_earn, Length: 4970, dtype: object"
      ]
     },
     "execution_count": 26,
     "metadata": {},
     "output_type": "execute_result"
    }
   ],
   "execution_count": 26
  },
  {
   "metadata": {
    "ExecuteTime": {
     "end_time": "2025-01-07T16:33:46.912473Z",
     "start_time": "2025-01-07T16:33:46.907097Z"
    }
   },
   "cell_type": "code",
   "source": "df_copy['gross_earn'].unique()",
   "id": "ecd4ebcd2bec290c",
   "outputs": [
    {
     "data": {
      "text/plain": [
       "array(['$28.34M', '$534.86M', '$292.58M', ..., '$6.24M', '$23.00M',\n",
       "       '$8.20M'], shape=(3367,), dtype=object)"
      ]
     },
     "execution_count": 27,
     "metadata": {},
     "output_type": "execute_result"
    }
   ],
   "execution_count": 27
  },
  {
   "metadata": {
    "ExecuteTime": {
     "end_time": "2025-01-07T16:33:46.960893Z",
     "start_time": "2025-01-07T16:33:46.957284Z"
    }
   },
   "cell_type": "code",
   "source": [
    "# Очистка от символов $ и запятых с обработкой пропущенных значений\n",
    "def clear_gross_earn(gross_earn):\n",
    "    if pd.isna(gross_earn):\n",
    "        return np.nan\n",
    "    else:\n",
    "        return re.sub(r'[^\\d\\.]', '', gross_earn)\n"
   ],
   "id": "cd18cbe519ecfe22",
   "outputs": [],
   "execution_count": 28
  },
  {
   "metadata": {
    "ExecuteTime": {
     "end_time": "2025-01-07T16:33:47.032946Z",
     "start_time": "2025-01-07T16:33:47.022814Z"
    }
   },
   "cell_type": "code",
   "source": "df_copy['gross_earn_clear'] = df_copy['gross_earn'].apply(clear_gross_earn)",
   "id": "6771a674cdfff1fc",
   "outputs": [],
   "execution_count": 29
  },
  {
   "metadata": {
    "ExecuteTime": {
     "end_time": "2025-01-07T16:33:47.100758Z",
     "start_time": "2025-01-07T16:33:47.094535Z"
    }
   },
   "cell_type": "code",
   "source": "df_copy['gross_earn_clear']",
   "id": "4d0648fbc0a51439",
   "outputs": [
    {
     "data": {
      "text/plain": [
       "0        28.34\n",
       "1       534.86\n",
       "2       292.58\n",
       "3        37.03\n",
       "4       107.93\n",
       "         ...  \n",
       "4994       NaN\n",
       "4995      9.40\n",
       "4996       NaN\n",
       "4998      6.67\n",
       "4999      8.20\n",
       "Name: gross_earn_clear, Length: 4970, dtype: object"
      ]
     },
     "execution_count": 30,
     "metadata": {},
     "output_type": "execute_result"
    }
   ],
   "execution_count": 30
  },
  {
   "metadata": {
    "ExecuteTime": {
     "end_time": "2025-01-07T16:33:47.186507Z",
     "start_time": "2025-01-07T16:33:47.182297Z"
    }
   },
   "cell_type": "code",
   "source": "df_copy['gross_earn_clear'] = df_copy['gross_earn_clear'].astype(float)",
   "id": "76539ce5213a91c0",
   "outputs": [],
   "execution_count": 31
  },
  {
   "metadata": {
    "ExecuteTime": {
     "end_time": "2025-01-07T16:33:51.493591Z",
     "start_time": "2025-01-07T16:33:51.481905Z"
    }
   },
   "cell_type": "code",
   "source": "df_copy.info()",
   "id": "36948dbc4def09c",
   "outputs": [
    {
     "name": "stdout",
     "output_type": "stream",
     "text": [
      "<class 'pandas.core.frame.DataFrame'>\n",
      "Index: 4970 entries, 0 to 4999\n",
      "Data columns (total 13 columns):\n",
      " #   Column            Non-Null Count  Dtype  \n",
      "---  ------            --------------  -----  \n",
      " 0   poster            4970 non-null   object \n",
      " 1   title             4970 non-null   object \n",
      " 2   certificate       4970 non-null   object \n",
      " 3   runtime           4970 non-null   object \n",
      " 4   genre             4970 non-null   object \n",
      " 5   rating            4970 non-null   float64\n",
      " 6   about             4956 non-null   object \n",
      " 7   director          4970 non-null   object \n",
      " 8   stars             4970 non-null   object \n",
      " 9   votes             4970 non-null   object \n",
      " 10  gross_earn        4574 non-null   object \n",
      " 11  runtime_clear     4970 non-null   int64  \n",
      " 12  gross_earn_clear  4574 non-null   float64\n",
      "dtypes: float64(2), int64(1), object(10)\n",
      "memory usage: 543.6+ KB\n"
     ]
    }
   ],
   "execution_count": 33
  },
  {
   "metadata": {},
   "cell_type": "markdown",
   "source": "# Сортировка по рейтингу",
   "id": "30c2a10f22800fab"
  },
  {
   "metadata": {
    "ExecuteTime": {
     "end_time": "2025-01-08T09:07:00.188766Z",
     "start_time": "2025-01-08T09:07:00.092921Z"
    }
   },
   "cell_type": "code",
   "source": "sorted_dataset = df_copy.sort_values(by='rating', ascending=False)",
   "id": "576f4c09b3385d98",
   "outputs": [],
   "execution_count": 34
  },
  {
   "metadata": {
    "ExecuteTime": {
     "end_time": "2025-01-08T09:07:07.657111Z",
     "start_time": "2025-01-08T09:07:07.636140Z"
    }
   },
   "cell_type": "code",
   "source": "sorted_dataset.head()",
   "id": "2c3fa55a71b95a36",
   "outputs": [
    {
     "data": {
      "text/plain": [
       "                                                 poster  \\\n",
       "0     https://m.media-amazon.com/images/S/sash/4Fyxw...   \n",
       "9     https://m.media-amazon.com/images/S/sash/4Fyxw...   \n",
       "3788  https://m.media-amazon.com/images/S/sash/4Fyxw...   \n",
       "8     https://m.media-amazon.com/images/S/sash/4Fyxw...   \n",
       "24    https://m.media-amazon.com/images/S/sash/4Fyxw...   \n",
       "\n",
       "                                              title certificate  runtime  \\\n",
       "0                          The Shawshank Redemption          15  142 min   \n",
       "9                                     The Godfather           X  175 min   \n",
       "3788                                 Hababam Sinifi         12A   87 min   \n",
       "8     The Lord of the Rings: The Return of the King         12A  201 min   \n",
       "24                                 Schindler's List          15  195 min   \n",
       "\n",
       "                          genre  rating  \\\n",
       "0                         Drama     9.3   \n",
       "9                  Crime, Drama     9.2   \n",
       "3788              Comedy, Drama     9.2   \n",
       "8      Action, Adventure, Drama     9.0   \n",
       "24    Biography, Drama, History     9.0   \n",
       "\n",
       "                                                  about              director  \\\n",
       "0     Two imprisoned men bond over a number of years...        Frank Darabont   \n",
       "9     The aging patriarch of an organized crime dyna...  Francis Ford Coppola   \n",
       "3788  Lazy, uneducated students share a very close b...         Ertem Egilmez   \n",
       "8     Gandalf and Aragorn lead the World of Men agai...         Peter Jackson   \n",
       "24    In German-occupied Poland during World War II,...      Steven Spielberg   \n",
       "\n",
       "                                                  stars      votes gross_earn  \\\n",
       "0     ('Tim Robbins',), ('Morgan Freeman',), ('Bob G...  26,26,905    $28.34M   \n",
       "9     ('Marlon Brando',), ('Al Pacino',), ('James Ca...  18,19,641   $134.97M   \n",
       "3788  ('Kemal Sunal',), ('Münir Özkul',), ('Halit Ak...     40,492        NaN   \n",
       "8     ('Elijah Wood',), ('Viggo Mortensen',), ('Ian ...  18,01,662   $377.85M   \n",
       "24    ('Liam Neeson',), ('Ralph Fiennes',), ('Ben Ki...  13,33,407    $96.90M   \n",
       "\n",
       "      runtime_clear  gross_earn_clear  \n",
       "0               142             28.34  \n",
       "9               175            134.97  \n",
       "3788             87               NaN  \n",
       "8               201            377.85  \n",
       "24              195             96.90  "
      ],
      "text/html": [
       "<div>\n",
       "<style scoped>\n",
       "    .dataframe tbody tr th:only-of-type {\n",
       "        vertical-align: middle;\n",
       "    }\n",
       "\n",
       "    .dataframe tbody tr th {\n",
       "        vertical-align: top;\n",
       "    }\n",
       "\n",
       "    .dataframe thead th {\n",
       "        text-align: right;\n",
       "    }\n",
       "</style>\n",
       "<table border=\"1\" class=\"dataframe\">\n",
       "  <thead>\n",
       "    <tr style=\"text-align: right;\">\n",
       "      <th></th>\n",
       "      <th>poster</th>\n",
       "      <th>title</th>\n",
       "      <th>certificate</th>\n",
       "      <th>runtime</th>\n",
       "      <th>genre</th>\n",
       "      <th>rating</th>\n",
       "      <th>about</th>\n",
       "      <th>director</th>\n",
       "      <th>stars</th>\n",
       "      <th>votes</th>\n",
       "      <th>gross_earn</th>\n",
       "      <th>runtime_clear</th>\n",
       "      <th>gross_earn_clear</th>\n",
       "    </tr>\n",
       "  </thead>\n",
       "  <tbody>\n",
       "    <tr>\n",
       "      <th>0</th>\n",
       "      <td>https://m.media-amazon.com/images/S/sash/4Fyxw...</td>\n",
       "      <td>The Shawshank Redemption</td>\n",
       "      <td>15</td>\n",
       "      <td>142 min</td>\n",
       "      <td>Drama</td>\n",
       "      <td>9.3</td>\n",
       "      <td>Two imprisoned men bond over a number of years...</td>\n",
       "      <td>Frank Darabont</td>\n",
       "      <td>('Tim Robbins',), ('Morgan Freeman',), ('Bob G...</td>\n",
       "      <td>26,26,905</td>\n",
       "      <td>$28.34M</td>\n",
       "      <td>142</td>\n",
       "      <td>28.34</td>\n",
       "    </tr>\n",
       "    <tr>\n",
       "      <th>9</th>\n",
       "      <td>https://m.media-amazon.com/images/S/sash/4Fyxw...</td>\n",
       "      <td>The Godfather</td>\n",
       "      <td>X</td>\n",
       "      <td>175 min</td>\n",
       "      <td>Crime, Drama</td>\n",
       "      <td>9.2</td>\n",
       "      <td>The aging patriarch of an organized crime dyna...</td>\n",
       "      <td>Francis Ford Coppola</td>\n",
       "      <td>('Marlon Brando',), ('Al Pacino',), ('James Ca...</td>\n",
       "      <td>18,19,641</td>\n",
       "      <td>$134.97M</td>\n",
       "      <td>175</td>\n",
       "      <td>134.97</td>\n",
       "    </tr>\n",
       "    <tr>\n",
       "      <th>3788</th>\n",
       "      <td>https://m.media-amazon.com/images/S/sash/4Fyxw...</td>\n",
       "      <td>Hababam Sinifi</td>\n",
       "      <td>12A</td>\n",
       "      <td>87 min</td>\n",
       "      <td>Comedy, Drama</td>\n",
       "      <td>9.2</td>\n",
       "      <td>Lazy, uneducated students share a very close b...</td>\n",
       "      <td>Ertem Egilmez</td>\n",
       "      <td>('Kemal Sunal',), ('Münir Özkul',), ('Halit Ak...</td>\n",
       "      <td>40,492</td>\n",
       "      <td>NaN</td>\n",
       "      <td>87</td>\n",
       "      <td>NaN</td>\n",
       "    </tr>\n",
       "    <tr>\n",
       "      <th>8</th>\n",
       "      <td>https://m.media-amazon.com/images/S/sash/4Fyxw...</td>\n",
       "      <td>The Lord of the Rings: The Return of the King</td>\n",
       "      <td>12A</td>\n",
       "      <td>201 min</td>\n",
       "      <td>Action, Adventure, Drama</td>\n",
       "      <td>9.0</td>\n",
       "      <td>Gandalf and Aragorn lead the World of Men agai...</td>\n",
       "      <td>Peter Jackson</td>\n",
       "      <td>('Elijah Wood',), ('Viggo Mortensen',), ('Ian ...</td>\n",
       "      <td>18,01,662</td>\n",
       "      <td>$377.85M</td>\n",
       "      <td>201</td>\n",
       "      <td>377.85</td>\n",
       "    </tr>\n",
       "    <tr>\n",
       "      <th>24</th>\n",
       "      <td>https://m.media-amazon.com/images/S/sash/4Fyxw...</td>\n",
       "      <td>Schindler's List</td>\n",
       "      <td>15</td>\n",
       "      <td>195 min</td>\n",
       "      <td>Biography, Drama, History</td>\n",
       "      <td>9.0</td>\n",
       "      <td>In German-occupied Poland during World War II,...</td>\n",
       "      <td>Steven Spielberg</td>\n",
       "      <td>('Liam Neeson',), ('Ralph Fiennes',), ('Ben Ki...</td>\n",
       "      <td>13,33,407</td>\n",
       "      <td>$96.90M</td>\n",
       "      <td>195</td>\n",
       "      <td>96.90</td>\n",
       "    </tr>\n",
       "  </tbody>\n",
       "</table>\n",
       "</div>"
      ]
     },
     "execution_count": 35,
     "metadata": {},
     "output_type": "execute_result"
    }
   ],
   "execution_count": 35
  },
  {
   "metadata": {
    "ExecuteTime": {
     "end_time": "2025-01-08T09:19:06.670703Z",
     "start_time": "2025-01-08T09:19:06.652568Z"
    }
   },
   "cell_type": "code",
   "source": [
    "# Переопределение индексов\n",
    "sorted_dataset.reset_index(drop=True, inplace=True)\n",
    "sorted_dataset.head()"
   ],
   "id": "3108faf64e8270bb",
   "outputs": [
    {
     "data": {
      "text/plain": [
       "                                              poster  \\\n",
       "0  https://m.media-amazon.com/images/S/sash/4Fyxw...   \n",
       "1  https://m.media-amazon.com/images/S/sash/4Fyxw...   \n",
       "2  https://m.media-amazon.com/images/S/sash/4Fyxw...   \n",
       "3  https://m.media-amazon.com/images/S/sash/4Fyxw...   \n",
       "4  https://m.media-amazon.com/images/S/sash/4Fyxw...   \n",
       "\n",
       "                                           title certificate  runtime  \\\n",
       "0                       The Shawshank Redemption          15  142 min   \n",
       "1                                  The Godfather           X  175 min   \n",
       "2                                 Hababam Sinifi         12A   87 min   \n",
       "3  The Lord of the Rings: The Return of the King         12A  201 min   \n",
       "4                               Schindler's List          15  195 min   \n",
       "\n",
       "                       genre  rating  \\\n",
       "0                      Drama     9.3   \n",
       "1               Crime, Drama     9.2   \n",
       "2              Comedy, Drama     9.2   \n",
       "3   Action, Adventure, Drama     9.0   \n",
       "4  Biography, Drama, History     9.0   \n",
       "\n",
       "                                               about              director  \\\n",
       "0  Two imprisoned men bond over a number of years...        Frank Darabont   \n",
       "1  The aging patriarch of an organized crime dyna...  Francis Ford Coppola   \n",
       "2  Lazy, uneducated students share a very close b...         Ertem Egilmez   \n",
       "3  Gandalf and Aragorn lead the World of Men agai...         Peter Jackson   \n",
       "4  In German-occupied Poland during World War II,...      Steven Spielberg   \n",
       "\n",
       "                                               stars      votes gross_earn  \\\n",
       "0  ('Tim Robbins',), ('Morgan Freeman',), ('Bob G...  26,26,905    $28.34M   \n",
       "1  ('Marlon Brando',), ('Al Pacino',), ('James Ca...  18,19,641   $134.97M   \n",
       "2  ('Kemal Sunal',), ('Münir Özkul',), ('Halit Ak...     40,492        NaN   \n",
       "3  ('Elijah Wood',), ('Viggo Mortensen',), ('Ian ...  18,01,662   $377.85M   \n",
       "4  ('Liam Neeson',), ('Ralph Fiennes',), ('Ben Ki...  13,33,407    $96.90M   \n",
       "\n",
       "   runtime_clear  gross_earn_clear  \n",
       "0            142             28.34  \n",
       "1            175            134.97  \n",
       "2             87               NaN  \n",
       "3            201            377.85  \n",
       "4            195             96.90  "
      ],
      "text/html": [
       "<div>\n",
       "<style scoped>\n",
       "    .dataframe tbody tr th:only-of-type {\n",
       "        vertical-align: middle;\n",
       "    }\n",
       "\n",
       "    .dataframe tbody tr th {\n",
       "        vertical-align: top;\n",
       "    }\n",
       "\n",
       "    .dataframe thead th {\n",
       "        text-align: right;\n",
       "    }\n",
       "</style>\n",
       "<table border=\"1\" class=\"dataframe\">\n",
       "  <thead>\n",
       "    <tr style=\"text-align: right;\">\n",
       "      <th></th>\n",
       "      <th>poster</th>\n",
       "      <th>title</th>\n",
       "      <th>certificate</th>\n",
       "      <th>runtime</th>\n",
       "      <th>genre</th>\n",
       "      <th>rating</th>\n",
       "      <th>about</th>\n",
       "      <th>director</th>\n",
       "      <th>stars</th>\n",
       "      <th>votes</th>\n",
       "      <th>gross_earn</th>\n",
       "      <th>runtime_clear</th>\n",
       "      <th>gross_earn_clear</th>\n",
       "    </tr>\n",
       "  </thead>\n",
       "  <tbody>\n",
       "    <tr>\n",
       "      <th>0</th>\n",
       "      <td>https://m.media-amazon.com/images/S/sash/4Fyxw...</td>\n",
       "      <td>The Shawshank Redemption</td>\n",
       "      <td>15</td>\n",
       "      <td>142 min</td>\n",
       "      <td>Drama</td>\n",
       "      <td>9.3</td>\n",
       "      <td>Two imprisoned men bond over a number of years...</td>\n",
       "      <td>Frank Darabont</td>\n",
       "      <td>('Tim Robbins',), ('Morgan Freeman',), ('Bob G...</td>\n",
       "      <td>26,26,905</td>\n",
       "      <td>$28.34M</td>\n",
       "      <td>142</td>\n",
       "      <td>28.34</td>\n",
       "    </tr>\n",
       "    <tr>\n",
       "      <th>1</th>\n",
       "      <td>https://m.media-amazon.com/images/S/sash/4Fyxw...</td>\n",
       "      <td>The Godfather</td>\n",
       "      <td>X</td>\n",
       "      <td>175 min</td>\n",
       "      <td>Crime, Drama</td>\n",
       "      <td>9.2</td>\n",
       "      <td>The aging patriarch of an organized crime dyna...</td>\n",
       "      <td>Francis Ford Coppola</td>\n",
       "      <td>('Marlon Brando',), ('Al Pacino',), ('James Ca...</td>\n",
       "      <td>18,19,641</td>\n",
       "      <td>$134.97M</td>\n",
       "      <td>175</td>\n",
       "      <td>134.97</td>\n",
       "    </tr>\n",
       "    <tr>\n",
       "      <th>2</th>\n",
       "      <td>https://m.media-amazon.com/images/S/sash/4Fyxw...</td>\n",
       "      <td>Hababam Sinifi</td>\n",
       "      <td>12A</td>\n",
       "      <td>87 min</td>\n",
       "      <td>Comedy, Drama</td>\n",
       "      <td>9.2</td>\n",
       "      <td>Lazy, uneducated students share a very close b...</td>\n",
       "      <td>Ertem Egilmez</td>\n",
       "      <td>('Kemal Sunal',), ('Münir Özkul',), ('Halit Ak...</td>\n",
       "      <td>40,492</td>\n",
       "      <td>NaN</td>\n",
       "      <td>87</td>\n",
       "      <td>NaN</td>\n",
       "    </tr>\n",
       "    <tr>\n",
       "      <th>3</th>\n",
       "      <td>https://m.media-amazon.com/images/S/sash/4Fyxw...</td>\n",
       "      <td>The Lord of the Rings: The Return of the King</td>\n",
       "      <td>12A</td>\n",
       "      <td>201 min</td>\n",
       "      <td>Action, Adventure, Drama</td>\n",
       "      <td>9.0</td>\n",
       "      <td>Gandalf and Aragorn lead the World of Men agai...</td>\n",
       "      <td>Peter Jackson</td>\n",
       "      <td>('Elijah Wood',), ('Viggo Mortensen',), ('Ian ...</td>\n",
       "      <td>18,01,662</td>\n",
       "      <td>$377.85M</td>\n",
       "      <td>201</td>\n",
       "      <td>377.85</td>\n",
       "    </tr>\n",
       "    <tr>\n",
       "      <th>4</th>\n",
       "      <td>https://m.media-amazon.com/images/S/sash/4Fyxw...</td>\n",
       "      <td>Schindler's List</td>\n",
       "      <td>15</td>\n",
       "      <td>195 min</td>\n",
       "      <td>Biography, Drama, History</td>\n",
       "      <td>9.0</td>\n",
       "      <td>In German-occupied Poland during World War II,...</td>\n",
       "      <td>Steven Spielberg</td>\n",
       "      <td>('Liam Neeson',), ('Ralph Fiennes',), ('Ben Ki...</td>\n",
       "      <td>13,33,407</td>\n",
       "      <td>$96.90M</td>\n",
       "      <td>195</td>\n",
       "      <td>96.90</td>\n",
       "    </tr>\n",
       "  </tbody>\n",
       "</table>\n",
       "</div>"
      ]
     },
     "execution_count": 41,
     "metadata": {},
     "output_type": "execute_result"
    }
   ],
   "execution_count": 41
  },
  {
   "metadata": {
    "ExecuteTime": {
     "end_time": "2025-01-08T09:16:06.729798Z",
     "start_time": "2025-01-08T09:16:06.702635Z"
    }
   },
   "cell_type": "code",
   "source": "sorted_dataset.info()",
   "id": "c08da9e9383fd994",
   "outputs": [
    {
     "name": "stdout",
     "output_type": "stream",
     "text": [
      "<class 'pandas.core.frame.DataFrame'>\n",
      "RangeIndex: 4970 entries, 0 to 4969\n",
      "Data columns (total 13 columns):\n",
      " #   Column            Non-Null Count  Dtype  \n",
      "---  ------            --------------  -----  \n",
      " 0   poster            4970 non-null   object \n",
      " 1   title             4970 non-null   object \n",
      " 2   certificate       4970 non-null   object \n",
      " 3   runtime           4970 non-null   object \n",
      " 4   genre             4970 non-null   object \n",
      " 5   rating            4970 non-null   float64\n",
      " 6   about             4956 non-null   object \n",
      " 7   director          4970 non-null   object \n",
      " 8   stars             4970 non-null   object \n",
      " 9   votes             4970 non-null   object \n",
      " 10  gross_earn        4574 non-null   object \n",
      " 11  runtime_clear     4970 non-null   int64  \n",
      " 12  gross_earn_clear  4574 non-null   float64\n",
      "dtypes: float64(2), int64(1), object(10)\n",
      "memory usage: 504.9+ KB\n"
     ]
    }
   ],
   "execution_count": 40
  },
  {
   "metadata": {
    "ExecuteTime": {
     "end_time": "2025-01-08T09:19:33.167133Z",
     "start_time": "2025-01-08T09:19:31.776175Z"
    }
   },
   "cell_type": "code",
   "source": "sorted_dataset.to_csv('movies_clean.csv', index=False)",
   "id": "c31359013d09383f",
   "outputs": [],
   "execution_count": 42
  }
 ],
 "metadata": {
  "kernelspec": {
   "display_name": "Python 3",
   "language": "python",
   "name": "python3"
  },
  "language_info": {
   "codemirror_mode": {
    "name": "ipython",
    "version": 2
   },
   "file_extension": ".py",
   "mimetype": "text/x-python",
   "name": "python",
   "nbconvert_exporter": "python",
   "pygments_lexer": "ipython2",
   "version": "2.7.6"
  }
 },
 "nbformat": 4,
 "nbformat_minor": 5
}
